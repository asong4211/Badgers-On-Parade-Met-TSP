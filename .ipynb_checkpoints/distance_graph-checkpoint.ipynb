{
 "cells": [
  {
   "cell_type": "markdown",
   "metadata": {},
   "source": [
    "## Calculate the Distance Matrix using Google Distance Matrix API"
   ]
  },
  {
   "cell_type": "markdown",
   "metadata": {},
   "source": [
    "Use Google Map Distance Matrix API to calculator the distance"
   ]
  },
  {
   "cell_type": "code",
   "execution_count": 122,
   "metadata": {},
   "outputs": [],
   "source": [
    "import json\n",
    "import requests\n",
    "import sys\n",
    "\n",
    "def computeDistance(lat1, lon1, lat2, lon2):\n",
    "    # GET YOUR GOOGLE API KEY HERE: https://developers.google.com/maps/documentation/distance-matrix/start\n",
    "    apiKey = \"#YOUR API KEY\"\n",
    "    baseURL = \"https://maps.googleapis.com/maps/api/distancematrix/json?\"\n",
    "    origin = \"\"+str(lat1)+\",\"+str(lon1)\n",
    "    destination = \"\"+str(lat2)+\",\"+str(lon2)\n",
    "    baseURL += \"origins=\"+origin + \"&destinations=\"+destination+\"&key=\" + apiKey +\"&mode=walking\"\n",
    "    \n",
    "    r = requests.get(baseURL)\n",
    "    \n",
    "    if r.status_code != 200:\n",
    "        print(\"HTTP status code {} received\".format(r.status_code))\n",
    "    else:\n",
    "        x = json.loads(r.text)\n",
    "        distance = x['rows'][0]['elements'][0]['distance']['value']\n",
    "        return distance\n"
   ]
  },
  {
   "cell_type": "code",
   "execution_count": 123,
   "metadata": {},
   "outputs": [],
   "source": [
    "import numpy as np\n",
    "def comp_dist_mat(lat,lon):\n",
    "    s = len(lat)\n",
    "    matrix = np.zeros((s,s))\n",
    "    for i in range(0,s):\n",
    "            for j in range(i+1,s):\n",
    "                    d = computeDistance(lat[i],lon[i],lat[j],lon[j])\n",
    "                    matrix[i,j] = d\n",
    "                    matrix[j,i] = d\n",
    "                    \n",
    "    return matrix;"
   ]
  },
  {
   "cell_type": "code",
   "execution_count": 124,
   "metadata": {},
   "outputs": [],
   "source": [
    "a = comp_dist_mat(latitude,longitude)\n",
    "np.savetxt(\"distance.csv\", a, delimiter=\",\")"
   ]
  }
 ],
 "metadata": {
  "kernelspec": {
   "display_name": "Python 3",
   "language": "python",
   "name": "python3"
  },
  "language_info": {
   "codemirror_mode": {
    "name": "ipython",
    "version": 3
   },
   "file_extension": ".py",
   "mimetype": "text/x-python",
   "name": "python",
   "nbconvert_exporter": "python",
   "pygments_lexer": "ipython3",
   "version": "3.6.1"
  }
 },
 "nbformat": 4,
 "nbformat_minor": 2
}
