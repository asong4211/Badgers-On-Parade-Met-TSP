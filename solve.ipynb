{
 "cells": [
  {
   "cell_type": "markdown",
   "metadata": {},
   "source": [
    "# Bucky on Parade met TSP"
   ]
  },
  {
   "cell_type": "markdown",
   "metadata": {},
   "source": [
    "## Motivation:\n",
    "- Recently, my school (University of Wisconsin Madison) brought 85 life-size Bucky Badger statue to the streets of Madison[1]. They all spread out across the campus and I thought it would be interesting to visit them all. I thought I can use some solvers to find the optimal shortest path that visit all of them and come back to where I started.\n",
    "- This problem can be thought of as the **Travel Salesman Problem** (TSP), which is given a list of cities and distance between each pair of cities, what is the shortest possible route that visits each city and return to the origin city. The TSP problem is NP-Hard, which means the worst case running time to find the optimal solution might take exponential amounts of time because the search space or possible solutions are so huge. In this case, given that we have 85 statues, the running time is 85!, which is $ 2.8 \\times 10^{128} $.\n",
    "- Although the problem is NP-Hard, it is still solved on the daily basis by a lot of big companies with millions of different cities. There have been many research in optimiation that use relaxation or some other heuristics to find an optimal solution.\n",
    "\n",
    "\n",
    "Reference: https://buckyonparade.com/"
   ]
  },
  {
   "cell_type": "markdown",
   "metadata": {},
   "source": [
    "---\n",
    "## Introduction\n",
    "\n",
    "- Even though there are 85 different statues, only 54 are around the University of Wisconsin campus. Some of them are spread out on the Northeast side of the campus. Hence, in this project, I will only be interested in the 54 of them that are around the campus.\n",
    "\n",
    "- Since all the location of the statues are published on their official website, I took all 55 of them and dumped them into a csv file. In \"location.csv\" I have all these information.\n",
    "\n",
    "| **Statue Name** |        **Location/Address**        |  **Latitude** |  **Longitude** |\n",
    "|:---------------:\t|:------------------------------:\t|:---------:\t|:----------:\t|\n",
    "| Class Act \t| Best Wstern Premier Park Hotel \t| 43.073207 \t| -89.384645 \t|\n",
    "| ... \t| ... \t| ... \t| ... \t|\n",
    "\n",
    "\n",
    "- Let's first read in the csv file and visualize how all of them spread out in the city\n"
   ]
  },
  {
   "cell_type": "code",
   "execution_count": 1,
   "metadata": {},
   "outputs": [
    {
     "data": {
      "text/html": [
       "<iframe id=\"igraph\" scrolling=\"no\" style=\"border:none;\" seamless=\"seamless\" src=\"https://plot.ly/~asong4211/0.embed\" height=\"525px\" width=\"100%\"></iframe>"
      ],
      "text/plain": [
       "PyObject <plotly.tools.PlotlyDisplay object>"
      ]
     },
     "execution_count": 1,
     "metadata": {},
     "output_type": "execute_result"
    }
   ],
   "source": [
    "using PyCall\n",
    "# I used PyCall here since ployly in python has a nice interactive map function\n",
    "@pyimport plotly.plotly as py\n",
    "@pyimport plotly.graph_objs as go\n",
    "\n",
    "# read in the csv file to get the lat, lon, and statue name\n",
    "raw = readcsv(\"./location.csv\")\n",
    "latitude = raw[:,3]\n",
    "longitude = raw[:,4]\n",
    "statue_name = raw[:,1]\n",
    "\n",
    "# Enter your own mapbox token here to run this cell:\n",
    "# More information: https://www.mapbox.com/help/how-access-tokens-work/\n",
    "mapbox_access_token = \"#ENTER YOUR API KEY HERE\"\n",
    "\n",
    "# create a new Scattermapbox object to store all the data about the statues\n",
    "data = [\n",
    "    go.Scattermapbox(\n",
    "        lat= latitude,\n",
    "        lon= longitude,\n",
    "        marker=Dict(\n",
    "            \"size\" => 7\n",
    "        ),\n",
    "        text=statue_name,\n",
    "    )\n",
    "]\n",
    "# create a simple mapbox layout\n",
    "layout = go.Layout(\n",
    "    autosize= true,\n",
    "    hovermode=\"closest\",\n",
    "    mapbox=Dict(\n",
    "        \"accesstoken\"=>mapbox_access_token,\n",
    "        \"bearing\"=>1,\n",
    "        \"center\"=>Dict(\n",
    "            \"lat\"=>43.073051,\n",
    "            \"lon\"=>-89.401230\n",
    "        ),\n",
    "        \"zoom\"=>13,\n",
    "    )\n",
    ")\n",
    "# graph it!\n",
    "fig = Dict(\"data\"=>data, \"layout\"=>layout)\n",
    "py.iplot(fig, filename=\"Multiple Mapbox\")"
   ]
  },
  {
   "cell_type": "code",
   "execution_count": 2,
   "metadata": {},
   "outputs": [
    {
     "data": {
      "text/plain": [
       "graphTour (generic function with 1 method)"
      ]
     },
     "execution_count": 2,
     "metadata": {},
     "output_type": "execute_result"
    }
   ],
   "source": [
    "#=\n",
    "    This function takes in a result binary square matrix and graph it. In this matrix, if row i column j is 1, that means\n",
    "    you are traveling from statue i to statue j.\n",
    "=#\n",
    "function graphTour(matrix)\n",
    "    tours = []\n",
    "    # loop through the matrix to find all the tours that go from i to j, and store them in the array 'tours'\n",
    "    for i = 1:size(matrix,1)\n",
    "        for j = 1:size(matrix,1)\n",
    "            if matrix[i,j] == 1\n",
    "                lon_start = longitude[i]\n",
    "                lon_end = longitude[j]\n",
    "                lat_start = latitude[i]\n",
    "                lat_end = latitude[j]\n",
    "                push!(tours,\n",
    "                    Dict(\n",
    "                        \"type\" => \"scattermapbox\",\n",
    "                        \"lon\" => [lon_start, lon_end],\n",
    "                        \"lat\" => [lat_start, lat_end],\n",
    "                        \"mode\" => \"lines\",\n",
    "                        \"line\" => Dict(\"width\" => 1, \"color\" => \"blue\"),\n",
    "                        \"showlegend\" => false\n",
    "                    )\n",
    "                )\n",
    "            end\n",
    "        end\n",
    "    end\n",
    "    # This is the same as the above codes, which is just getting the location of all the statues on the map.\n",
    "    statue = [\n",
    "        go.Scattermapbox(\n",
    "            lat= latitude,\n",
    "            lon= longitude,\n",
    "            marker=Dict(\n",
    "                \"size\" => 7,\n",
    "                \"color\"=> \"red\"\n",
    "            ),\n",
    "            text=statue_name,\n",
    "            showlegend = false\n",
    "        )\n",
    "    ]\n",
    "    # the layout of the map\n",
    "    layout = go.Layout(\n",
    "        autosize= true,\n",
    "        hovermode=\"closest\",\n",
    "        mapbox=Dict(\n",
    "            \"accesstoken\"=>mapbox_access_token,\n",
    "            \"bearing\"=>1,\n",
    "            \"center\"=>Dict(\n",
    "                \"lat\"=>43.073051,\n",
    "                \"lon\"=>-89.401230\n",
    "            ),\n",
    "            \"zoom\"=>13,\n",
    "            \n",
    "        )\n",
    "    )\n",
    "    # combining both the tours and the location of the statue, and graph it!\n",
    "    combine = vcat(statue,tours)\n",
    "    fig = Dict(\"data\"=>combine, \"layout\"=>layout)\n",
    "    g = py.iplot(fig, filename=\"Multiple Mapbox\")\n",
    "    g\n",
    "end"
   ]
  },
  {
   "cell_type": "markdown",
   "metadata": {},
   "source": [
    "- In \"distance.py\", I wrote a simple python script that computes the distance matrix for all the statues. The distance matrix is a 54 by 54 square matrix with all zeros on the diagonal. I saved the distance matrix in a csv file that called \"distance.csv\"\n",
    "- Below are the codes just to visualize what the distance matrix looks like"
   ]
  },
  {
   "cell_type": "code",
   "execution_count": 3,
   "metadata": {},
   "outputs": [
    {
     "data": {
      "text/plain": [
       "54×54 Named Array{Float64,2}\n",
       "Loc1 ╲ Loc2 │      1       2       3       4  …      51      52      53      54\n",
       "────────────┼──────────────────────────────────────────────────────────────────\n",
       "1           │    0.0   226.0   329.0   343.0  …  4053.0  2851.0  2109.0  1344.0\n",
       "2           │  226.0     0.0   278.0   225.0     4203.0  3001.0  2258.0  1494.0\n",
       "3           │  329.0   278.0     0.0    74.0     4051.0  2849.0  2107.0  1342.0\n",
       "4           │  343.0   225.0    74.0     0.0     4115.0  2913.0  2170.0  1406.0\n",
       "5           │  120.0   244.0   208.0   270.0     3981.0  2779.0  2037.0  1272.0\n",
       "6           │  206.0    70.0   208.0   155.0     4133.0  2931.0  2189.0  1424.0\n",
       "7           │  286.0   168.0   110.0    57.0     4151.0  2949.0  2206.0  1442.0\n",
       "8           │  392.0   274.0   123.0    70.0     4164.0  2962.0  2220.0  1455.0\n",
       "9           │  280.0   316.0    49.0   112.0     4002.0  2800.0  2058.0  1294.0\n",
       "10          │  214.0    12.0   266.0   213.0     4191.0  2989.0  2247.0  1482.0\n",
       "11          │  238.0   143.0   421.0   368.0     4254.0  3052.0  2310.0  1545.0\n",
       "12          │  544.0   426.0   274.0   221.0     4316.0  3114.0  2371.0  1607.0\n",
       "⋮                  ⋮       ⋮       ⋮       ⋮  ⋱       ⋮       ⋮       ⋮       ⋮\n",
       "43          │ 1414.0  1564.0  1412.0  1476.0     2777.0  1723.0  1059.0   335.0\n",
       "44          │ 1465.0  1614.0  1463.0  1526.0     2722.0  1668.0  1004.0   385.0\n",
       "45          │ 1411.0  1560.0  1409.0  1472.0     2689.0  1547.0   882.0   484.0\n",
       "46          │ 2332.0  2482.0  2330.0  2394.0     2015.0   706.0   434.0  1539.0\n",
       "47          │ 2202.0  2352.0  2200.0  2264.0     1956.0  1108.0   927.0  1262.0\n",
       "48          │ 3106.0  3256.0  3104.0  3168.0     1321.0  1302.0  1361.0  2218.0\n",
       "49          │ 3717.0  3866.0  3715.0  3778.0      740.0  1890.0  1948.0  2613.0\n",
       "50          │ 4407.0  4557.0  4405.0  4469.0     1136.0  2580.0  2638.0  3304.0\n",
       "51          │ 4053.0  4203.0  4051.0  4115.0        0.0  2306.0  2408.0  3112.0\n",
       "52          │ 2851.0  3001.0  2849.0  2913.0     2306.0     0.0   925.0  2058.0\n",
       "53          │ 2109.0  2258.0  2107.0  2170.0     2408.0   925.0     0.0  1393.0\n",
       "54          │ 1344.0  1494.0  1342.0  1406.0  …  3112.0  2058.0  1393.0     0.0"
      ]
     },
     "execution_count": 3,
     "metadata": {},
     "output_type": "execute_result"
    }
   ],
   "source": [
    "using NamedArrays\n",
    "matrix = readcsv(\"distance.csv\")\n",
    "s_name = [string(i) for i = 1:size(matrix,1)]\n",
    "c = NamedArray(matrix, (s_name,s_name), (\"Loc1\",\"Loc2\"))\n",
    "N = size(matrix,1)\n",
    "c"
   ]
  },
  {
   "cell_type": "markdown",
   "metadata": {},
   "source": [
    "### Mixed Integer Program\n",
    "\n",
    "- Now finally we got to the real optimization part.\n",
    "- Let me first write out the Mathematical formulation and further explain what are the variables, constraints and objectives are.\n",
    "- First, we can model a TSP problem as a network flow problem and use mixed integer program to solve it.\n",
    "    - Let $c_{ij}$ be the distance of travling from statue i to statue j\n",
    "    - And we define decision variables $x_{ij}$ to be 1 if we travel from statue i to statue j, and 0 otherwise.\n",
    "    - Next, we can write down our Integer Program Model:\n",
    "    $$\n",
    "    \\begin{equation*}\n",
    "    \\begin{aligned}\n",
    "    & \\underset{x}{\\text{minimize}}\n",
    "    & & \\sum_{ i \\in N} \\sum_{j \\in N} c_{ij}x_{ij} \\\\\n",
    "    & \\text{subject to}\n",
    "    & & \\sum_{i \\in N} x_{ij} = 1 \\quad \\forall j \\\\\n",
    "    &  & &\\sum_{j \\in N} x_{ij} = 1 \\quad \\forall j \\\\\n",
    "    &  & & x_{ii} = 0 \\quad \\forall i \\\\\n",
    "    &  & & x_{ij} \\in \\{0,1\\} \\quad \\forall i,j \\\\\n",
    "    \\end{aligned}\n",
    "    \\end{equation*}\n",
    "    $$\n",
    "        - The objective of this model is to minimize the total distance travel. $c_{ij}$ is the distance between statue i and statue j, $x_{i,j}$ is whether we are going from i to j or not.\n",
    "        - The first constraint makes sure that every statue only has 1 in-edge, i.e. given statue i, only one other statue will be going to i.\n",
    "        - The second constraint makes sure that every statue only has one out-edge, i.e. given statue i, only one other statue will i be going to.\n",
    "        - The third constraint just to prevent self-loop, so going from statue i to statue j is illegal.\n",
    "        - The fourth constraint just limit the decision variable x to be either 0 or 1."
   ]
  },
  {
   "cell_type": "code",
   "execution_count": 4,
   "metadata": {},
   "outputs": [
    {
     "name": "stdout",
     "output_type": "stream",
     "text": [
      "Academic license - for non-commercial use only\n",
      "  3.196540 seconds (1.51 M allocations: 78.988 MiB, 1.68% gc time)\n",
      "Optimal\n",
      "54×54 Named Array{Int64,2}\n",
      "A ╲ B │  1   2   3   4   5   6   7   8  …  47  48  49  50  51  52  53  54\n",
      "──────┼──────────────────────────────────────────────────────────────────\n",
      "1     │  0   0   0   0   1   0   0   0  …   0   0   0   0   0   0   0   0\n",
      "2     │  0   0   0   0   0   0   0   0      0   0   0   0   0   0   0   0\n",
      "3     │  0   0   0   0   0   0   0   0      0   0   0   0   0   0   0   0\n",
      "4     │  0   0   0   0   0   0   1   0      0   0   0   0   0   0   0   0\n",
      "5     │  1   0   0   0   0   0   0   0      0   0   0   0   0   0   0   0\n",
      "6     │  0   1   0   0   0   0   0   0      0   0   0   0   0   0   0   0\n",
      "7     │  0   0   0   1   0   0   0   0      0   0   0   0   0   0   0   0\n",
      "8     │  0   0   0   0   0   0   0   0      0   0   0   0   0   0   0   0\n",
      "9     │  0   0   1   0   0   0   0   0      0   0   0   0   0   0   0   0\n",
      "10    │  0   0   0   0   0   1   0   0      0   0   0   0   0   0   0   0\n",
      "11    │  0   0   0   0   0   0   0   0      0   0   0   0   0   0   0   0\n",
      "12    │  0   0   0   0   0   0   0   0      0   0   0   0   0   0   0   0\n",
      "⋮        ⋮   ⋮   ⋮   ⋮   ⋮   ⋮   ⋮   ⋮  ⋱   ⋮   ⋮   ⋮   ⋮   ⋮   ⋮   ⋮   ⋮\n",
      "43    │  0   0   0   0   0   0   0   0      0   0   0   0   0   0   0   0\n",
      "44    │  0   0   0   0   0   0   0   0      0   0   0   0   0   0   0   0\n",
      "45    │  0   0   0   0   0   0   0   0      0   0   0   0   0   0   0   0\n",
      "46    │  0   0   0   0   0   0   0   0      0   0   0   0   0   0   1   0\n",
      "47    │  0   0   0   0   0   0   0   0      0   1   0   0   0   0   0   0\n",
      "48    │  0   0   0   0   0   0   0   0      1   0   0   0   0   0   0   0\n",
      "49    │  0   0   0   0   0   0   0   0      0   0   0   0   1   0   0   0\n",
      "50    │  0   0   0   0   0   0   0   0      0   0   1   0   0   0   0   0\n",
      "51    │  0   0   0   0   0   0   0   0      0   0   0   1   0   0   0   0\n",
      "52    │  0   0   0   0   0   0   0   0      0   0   0   0   0   0   0   0\n",
      "53    │  0   0   0   0   0   0   0   0      0   0   0   0   0   0   0   0\n",
      "54    │  0   0   0   0   0   0   0   0  …   0   0   0   0   0   0   0   0\n"
     ]
    },
    {
     "data": {
      "text/html": [
       "<iframe id=\"igraph\" scrolling=\"no\" style=\"border:none;\" seamless=\"seamless\" src=\"https://plot.ly/~asong4211/0.embed\" height=\"525px\" width=\"100%\"></iframe>"
      ],
      "text/plain": [
       "PyObject <plotly.tools.PlotlyDisplay object>"
      ]
     },
     "execution_count": 4,
     "metadata": {},
     "output_type": "execute_result"
    }
   ],
   "source": [
    "using JuMP, Gurobi\n",
    "\n",
    "m = Model(solver = GurobiSolver(OutputFlag=0))\n",
    "s = [i for i in 1:N]\n",
    "@variable(m, x[s,s],Bin)                                # 54 by 54 decision variable\n",
    "@constraint(m, cons1[j in s], sum(x[i,j] for i in s) == 1)   # one in-edge\n",
    "@constraint(m, cons2[i in s], sum(x[i,j] for j in s) == 1)   # one out-edge\n",
    "@constraint(m, cons3[i in s], x[i,i] == 0)                   # no self-loop\n",
    "@objective(m, Min, sum(x[i,j]*c[i,j] for i in s, j in s)) # minimize total distance travel\n",
    "\n",
    "@time(result = solve(m))\n",
    "println(result)\n",
    "sol = getvalue(x)\n",
    "solution = NamedArray(zeros(Int,N,N),(s,s))\n",
    "for i in s,j in s\n",
    "     solution[i,j] = sol[i,j]\n",
    "end\n",
    "println(solution)\n",
    "graphTour(solution)"
   ]
  },
  {
   "cell_type": "markdown",
   "metadata": {},
   "source": [
    "### Result Discussion:\n",
    "\n",
    "- As one can see, the solver can solve the integer program pretty efficiently. But from the graph, we can see that this is not at all what we want, because all of them formed a smaller subtour within the big tour, and are not connected together.\n",
    "\n",
    "- One simple fix that we are going to do is to manually add another constraint that tells the solver that we want to eliminate that subtour and solve it again."
   ]
  },
  {
   "cell_type": "markdown",
   "metadata": {},
   "source": [
    "## Subtours Elimination\n",
    "- This is a very greedy approach, which is at every iteration, just keep eliminating the subtours by explicitly setting another constraint telling the solver to disallow this subtour.\n",
    "- Mathematically, we add constraint $ \\sum_{(i,j)\\in S} x_{ij} \\leq |S| -1 \\quad \\forall S$\n",
    "- For example, if we have a subtour which goes from 1 -> 2 -> 1, then we can write another constraint: $ x_{12} + x_{21} \\leq 1$.\n",
    "- Since this is a very greedy approach, it can still take up exponentially many subtours, and can add exponentially many constraints which would still not allow us to solve the problem. This is bad because we are already solving a Mix Integer Program, which is already NP Hard, and if we want to add exponentially (2^n) many constraints, this would make the problem even worse.\n"
   ]
  },
  {
   "cell_type": "code",
   "execution_count": 5,
   "metadata": {},
   "outputs": [
    {
     "data": {
      "text/plain": [
       "getAllSubtours (generic function with 1 method)"
      ]
     },
     "execution_count": 5,
     "metadata": {},
     "output_type": "execute_result"
    }
   ],
   "source": [
    "s_name = [i for i = 1:54]\n",
    "\n",
    "# Helper function to return the cycle containing the city START.\n",
    "function getSubtour(x,start)\n",
    "    subtour = [start]\n",
    "    while true\n",
    "        j = subtour[end]\n",
    "        for k in s_name\n",
    "            if x[k,j] == 1\n",
    "                push!(subtour,k)\n",
    "                break\n",
    "            end\n",
    "        end\n",
    "        if subtour[end] == start\n",
    "            break\n",
    "        end\n",
    "    end\n",
    "    return subtour\n",
    "end\n",
    "# helper function to return a list of all cycles\n",
    "function getAllSubtours(x)\n",
    "    nodesRemaining = s_name\n",
    "    subtours = []\n",
    "    while length(nodesRemaining) > 0\n",
    "        subtour = getSubtour(x,nodesRemaining[1])\n",
    "        push!(subtours, subtour)\n",
    "        nodesRemaining = setdiff(nodesRemaining,subtour)\n",
    "    end\n",
    "    return subtours\n",
    "end"
   ]
  },
  {
   "cell_type": "code",
   "execution_count": 7,
   "metadata": {},
   "outputs": [
    {
     "name": "stdout",
     "output_type": "stream",
     "text": [
      "Iteration 1 Tour length 14795.0\n"
     ]
    },
    {
     "name": "stderr",
     "output_type": "stream",
     "text": [
      "\u001b[1m\u001b[33mWARNING: \u001b[39m\u001b[22m\u001b[33mSolver does not appear to support adding constraints to an existing model. JuMP's internal model will be discarded.\u001b[39m\n"
     ]
    },
    {
     "name": "stdout",
     "output_type": "stream",
     "text": [
      "Iteration 2 Tour length 16060.0\n",
      "Iteration 3 Tour length 16490.0\n",
      "Iteration 4 Tour length 16691.0\n",
      "Iteration 5 Tour length 17030.0\n",
      "Iteration 6 Tour length 17102.0\n",
      "Iteration 7 Tour length 17385.0\n",
      "Iteration 8 Tour length 17412.0\n",
      "Iteration 9 Tour length 17494.0\n",
      "Iteration 10 Tour length 17536.0\n",
      "Iteration 11 Tour length 17656.0\n",
      "Iteration 12 Tour length 17694.0\n",
      "Iteration 13 Tour length 17710.0\n",
      "Iteration 14 Tour length 17722.0\n",
      "Iteration 15 Tour length 17735.0\n",
      "Iteration 16 Tour length 17741.0\n",
      "Iteration 17 Tour length 17741.0\n",
      "Iteration 18 Tour length 17749.0\n",
      "Iteration 19 Tour length 17753.0\n",
      "Iteration 20 Tour length 17769.0\n",
      "Iteration 21 Tour length 17800.0\n",
      "Iteration 22 Tour length 17804.0\n",
      "Iteration 23 Tour length 17807.0\n",
      "Iteration 24 Tour length 17813.0\n",
      "Iteration 25 Tour length 17822.0\n",
      "Iteration 26 Tour length 17847.0\n",
      "Iteration 27 Tour length 17848.0\n",
      "Iteration 28 Tour length 17849.0\n",
      "Iteration 29 Tour length 17853.0\n",
      "Iteration 30 Tour length 17854.0\n",
      "Iteration 31 Tour length 17866.0\n",
      "Iteration 32 Tour length 17880.0\n",
      "Iteration 33 Tour length 17881.0\n",
      "Iteration 34 Tour length 17895.0\n",
      "Iteration 35 Tour length 17896.0\n",
      "Iteration 36 Tour length 17903.0\n",
      "Iteration 37 Tour length 17914.0\n",
      "Iteration 38 Tour length 17918.0\n"
     ]
    },
    {
     "ename": "LoadError",
     "evalue": "\u001b[91mInternal error: Unrecognized solution status\u001b[39m",
     "output_type": "error",
     "traceback": [
      "\u001b[91mInternal error: Unrecognized solution status\u001b[39m",
      "",
      "Stacktrace:",
      " [1] \u001b[1mstatus\u001b[22m\u001b[22m\u001b[1m(\u001b[22m\u001b[22m::Cbc.CbcMathProgSolverInterface.CbcMathProgModel\u001b[1m)\u001b[22m\u001b[22m at \u001b[1m/Applications/JuliaPro-0.6.2.1.app/Contents/Resources/pkgs-0.6.2.1/v0.6/Cbc/src/CbcSolverInterface.jl:177\u001b[22m\u001b[22m",
      " [2] \u001b[1m#solve#116\u001b[22m\u001b[22m\u001b[1m(\u001b[22m\u001b[22m::Bool, ::Bool, ::Bool, ::Array{Any,1}, ::Function, ::JuMP.Model\u001b[1m)\u001b[22m\u001b[22m at \u001b[1m/Applications/JuliaPro-0.6.2.1.app/Contents/Resources/pkgs-0.6.2.1/v0.6/JuMP/src/solvers.jl:176\u001b[22m\u001b[22m",
      " [3] \u001b[1msolve\u001b[22m\u001b[22m\u001b[1m(\u001b[22m\u001b[22m::JuMP.Model\u001b[1m)\u001b[22m\u001b[22m at \u001b[1m/Applications/JuliaPro-0.6.2.1.app/Contents/Resources/pkgs-0.6.2.1/v0.6/JuMP/src/solvers.jl:150\u001b[22m\u001b[22m",
      " [4] \u001b[1mmacro expansion\u001b[22m\u001b[22m at \u001b[1m./In[7]:14\u001b[22m\u001b[22m [inlined]",
      " [5] \u001b[1mmacro expansion\u001b[22m\u001b[22m at \u001b[1m./util.jl:237\u001b[22m\u001b[22m [inlined]",
      " [6] \u001b[1manonymous\u001b[22m\u001b[22m at \u001b[1m./<missing>:?\u001b[22m\u001b[22m",
      " [7] \u001b[1minclude_string\u001b[22m\u001b[22m\u001b[1m(\u001b[22m\u001b[22m::String, ::String\u001b[1m)\u001b[22m\u001b[22m at \u001b[1m./loading.jl:522\u001b[22m\u001b[22m"
     ]
    }
   ],
   "source": [
    "using Cbc\n",
    "m = Model(solver=CbcSolver())\n",
    "s_name = [i for i = 1:54]\n",
    "@variable(m, x[s_name,s_name],Bin)\n",
    "@constraint(m, c1[j in s_name], sum( x[i,j] for i in s_name) == 1)\n",
    "@constraint(m, c2[i in s_name], sum( x[i,j] for j in s_name) == 1)\n",
    "@constraint(m, c3[i in s_name], x[i,i] == 0)\n",
    "@objective(m, Min, sum( x[i,j]*matrix[i,j] for i in s_name, j in s_name))\n",
    "\n",
    "sols = []\n",
    "iters = 1\n",
    "@time(\n",
    "while iters <= 50\n",
    "    solve(m)\n",
    "    println(\"Iteration $iters Tour length \", getobjectivevalue(m))\n",
    "    xx = getvalue(x)\n",
    "    push!(sols,xx)\n",
    "    subtours = getAllSubtours(xx)\n",
    "    sleep(1)\n",
    "    len = length(subtours)\n",
    "    if len == 1\n",
    "        println(\"SOLVED!\")\n",
    "        break\n",
    "    else\n",
    "        for subtour in subtours\n",
    "            L = length(subtour)\n",
    "            @constraint(m, sum(x[subtour[k+1],subtour[k]] for k =1:L-1) <= L-2)\n",
    "            @constraint(m, sum(x[subtour[k], subtour[k+1]] for k=1:L-1) <= L-2)\n",
    "        end\n",
    "    end\n",
    "    iters += 1\n",
    "end\n",
    "    )"
   ]
  },
  {
   "cell_type": "code",
   "execution_count": 9,
   "metadata": {
    "scrolled": false
   },
   "outputs": [
    {
     "name": "stdout",
     "output_type": "stream",
     "text": [
      "54×54 Named Array{Int64,2}\n",
      "A ╲ B │  1   2   3   4   5   6   7   8  …  47  48  49  50  51  52  53  54\n",
      "──────┼──────────────────────────────────────────────────────────────────\n",
      "1     │  0   0   0   0   1   0   0   0  …   0   0   0   0   0   0   0   0\n",
      "2     │  0   0   0   0   0   0   0   0      0   0   0   0   0   0   0   0\n",
      "3     │  0   0   0   0   0   0   0   0      0   0   0   0   0   0   0   0\n",
      "4     │  0   0   0   0   0   0   1   0      0   0   0   0   0   0   0   0\n",
      "5     │  0   0   0   0   0   0   0   0      0   0   0   0   0   0   0   0\n",
      "6     │  0   0   0   0   0   0   0   0      0   0   0   0   0   0   0   0\n",
      "7     │  0   0   0   0   0   1   0   0      0   0   0   0   0   0   0   0\n",
      "8     │  0   0   0   1   0   0   0   0      0   0   0   0   0   0   0   0\n",
      "9     │  0   0   1   0   0   0   0   0      0   0   0   0   0   0   0   0\n",
      "10    │  0   1   0   0   0   0   0   0      0   0   0   0   0   0   0   0\n",
      "11    │  1   0   0   0   0   0   0   0      0   0   0   0   0   0   0   0\n",
      "12    │  0   0   0   0   0   0   0   0      0   0   0   0   0   0   0   0\n",
      "⋮        ⋮   ⋮   ⋮   ⋮   ⋮   ⋮   ⋮   ⋮  ⋱   ⋮   ⋮   ⋮   ⋮   ⋮   ⋮   ⋮   ⋮\n",
      "43    │  0   0   0   0   0   0   0   0      0   0   0   0   0   0   0   0\n",
      "44    │  0   0   0   0   0   0   0   0      0   0   0   0   0   0   0   0\n",
      "45    │  0   0   0   0   0   0   0   0      0   0   0   0   0   0   0   0\n",
      "46    │  0   0   0   0   0   0   0   0      0   0   0   0   0   0   1   0\n",
      "47    │  0   0   0   0   0   0   0   0      0   0   0   0   0   0   0   0\n",
      "48    │  0   0   0   0   0   0   0   0      0   0   0   1   0   0   0   0\n",
      "49    │  0   0   0   0   0   0   0   0      1   0   0   0   0   0   0   0\n",
      "50    │  0   0   0   0   0   0   0   0      0   0   0   0   1   0   0   0\n",
      "51    │  0   0   0   0   0   0   0   0      0   0   1   0   0   0   0   0\n",
      "52    │  0   0   0   0   0   0   0   0      0   0   0   0   0   0   0   0\n",
      "53    │  0   0   0   0   0   0   0   0      0   0   0   0   0   1   0   0\n",
      "54    │  0   0   0   0   0   0   0   0  …   0   0   0   0   0   0   0   0\n"
     ]
    },
    {
     "data": {
      "text/html": [
       "<iframe id=\"igraph\" scrolling=\"no\" style=\"border:none;\" seamless=\"seamless\" src=\"https://plot.ly/~asong4211/0.embed\" height=\"525px\" width=\"100%\"></iframe>"
      ],
      "text/plain": [
       "PyObject <plotly.tools.PlotlyDisplay object>"
      ]
     },
     "execution_count": 9,
     "metadata": {},
     "output_type": "execute_result"
    }
   ],
   "source": [
    "sol = getvalue(x)\n",
    "solution = NamedArray(zeros(Int,N,N),(s_name,s_name))\n",
    "for i in s_name\n",
    "    for j in s_name\n",
    "            solution[i,j] = sol[i,j]\n",
    "    end\n",
    "end\n",
    "println(solution)\n",
    "graphTour(solution)"
   ]
  },
  {
   "cell_type": "markdown",
   "metadata": {},
   "source": [
    "**Notes for Subtour Elimination:**\n",
    "\n",
    "- I ran this cell many times, (changing different number of iterations), but was not able to solve it even with 100+ iterations which take more than two hours to solve.\n",
    "- As seen in the graph, there are still two big subtours in the graph, and this is true when it is 30 iterations, and is still true when it's the 100's iteration, basically the algorithm is trying different ways to eliminate the two big subtours but takes very long to completely eliminate this two subtours."
   ]
  },
  {
   "cell_type": "markdown",
   "metadata": {},
   "source": [
    "---\n",
    "## Direct TSP Formulation (Miller-Tucker-Zemlin Formulation)\n",
    "\n",
    "- This formulation is a direct formulation of the TSP problem. Contrast to the Subtour Elimination method, we add additional variable $u_i$ for each node $ i \\in N$. We number this variable such that if we connect i with j, then j has to be 1 greater than i. This will end up with a tour where the u is 1 -> 2 ->3 ... -> n. \n",
    "- This method will automatically exclude subtour, because if we have a subtour, then 1 -> 2 -> 3 -> 1 is already been disallowed by the solver. However, we have to add another constraint to tell the solver to go back to where it started, so essentially just one constraint that allow you to connect from n to 1 (this is enforced by the last constraint in the formulation below).\n",
    "$$\n",
    "    \\begin{equation*}\n",
    "    \\begin{aligned}\n",
    "    & \\underset{x}{\\text{minimize}}\n",
    "    & & \\sum_{ i \\in N} \\sum_{j \\in N} c_{ij}x_{ij} \\\\\n",
    "    & \\text{subject to}\n",
    "    & & \\sum_{i \\in N} x_{ij} = 1 \\quad \\forall j \\\\\n",
    "    &  & &\\sum_{j \\in N} x_{ij} = 1 \\quad \\forall j \\\\\n",
    "    &  & & x_{ii} = 0 \\quad \\forall i \\\\\n",
    "    &  & & 1 \\leq u_i \\leq n \\quad \\forall i \\in N \\\\\n",
    "    &  & & u_i - u_j + nx_{ij} \\leq n-1 \\quad \\forall i, \\forall j \\neq 1\\\\\n",
    "    \\end{aligned}\n",
    "    \\end{equation*}\n",
    "$$"
   ]
  },
  {
   "cell_type": "code",
   "execution_count": 30,
   "metadata": {},
   "outputs": [
    {
     "name": "stdout",
     "output_type": "stream",
     "text": [
      "Academic license - for non-commercial use only\n",
      "1408.175060 seconds (164 allocations: 1.835 MiB)\n",
      "Optimal\n",
      "54×54 Named Array{Int64,2}\n",
      "A ╲ B │  1   2   3   4   5   6   7   8  …  47  48  49  50  51  52  53  54\n",
      "──────┼──────────────────────────────────────────────────────────────────\n",
      "1     │  0   0   0   0   1   0   0   0  …   0   0   0   0   0   0   0   0\n",
      "2     │  0   0   0   0   0   0   0   0      0   0   0   0   0   0   0   0\n",
      "3     │  0   0   0   0   0   0   0   0      0   0   0   0   0   0   0   0\n",
      "4     │  0   0   0   0   0   0   1   0      0   0   0   0   0   0   0   0\n",
      "5     │  0   0   0   0   0   0   0   0      0   0   0   0   0   0   0   0\n",
      "6     │  0   0   0   0   0   0   0   0      0   0   0   0   0   0   0   0\n",
      "7     │  0   0   0   0   0   1   0   0      0   0   0   0   0   0   0   0\n",
      "8     │  0   0   0   1   0   0   0   0      0   0   0   0   0   0   0   0\n",
      "9     │  0   0   1   0   0   0   0   0      0   0   0   0   0   0   0   0\n",
      "10    │  0   1   0   0   0   0   0   0      0   0   0   0   0   0   0   0\n",
      "11    │  1   0   0   0   0   0   0   0      0   0   0   0   0   0   0   0\n",
      "12    │  0   0   0   0   0   0   0   0      0   0   0   0   0   0   0   0\n",
      "⋮        ⋮   ⋮   ⋮   ⋮   ⋮   ⋮   ⋮   ⋮  ⋱   ⋮   ⋮   ⋮   ⋮   ⋮   ⋮   ⋮   ⋮\n",
      "43    │  0   0   0   0   0   0   0   0      0   0   0   0   0   0   0   0\n",
      "44    │  0   0   0   0   0   0   0   0      0   0   0   0   0   0   0   0\n",
      "45    │  0   0   0   0   0   0   0   0      0   0   0   0   0   0   0   0\n",
      "46    │  0   0   0   0   0   0   0   0      0   0   0   0   0   1   0   0\n",
      "47    │  0   0   0   0   0   0   0   0      0   0   0   0   0   0   0   0\n",
      "48    │  0   0   0   0   0   0   0   0      0   0   0   0   1   0   0   0\n",
      "49    │  0   0   0   0   0   0   0   0      1   0   0   0   0   0   0   0\n",
      "50    │  0   0   0   0   0   0   0   0      0   0   1   0   0   0   0   0\n",
      "51    │  0   0   0   0   0   0   0   0      0   0   0   1   0   0   0   0\n",
      "52    │  0   0   0   0   0   0   0   0      0   0   0   0   0   0   0   0\n",
      "53    │  0   0   0   0   0   0   0   0      0   0   0   0   0   0   0   0\n",
      "54    │  0   0   0   0   0   0   0   0  …   0   0   0   0   0   0   0   0\n"
     ]
    },
    {
     "data": {
      "text/html": [
       "<iframe id=\"igraph\" scrolling=\"no\" style=\"border:none;\" seamless=\"seamless\" src=\"https://plot.ly/~asong4211/0.embed\" height=\"525px\" width=\"100%\"></iframe>"
      ],
      "text/plain": [
       "PyObject <plotly.tools.PlotlyDisplay object>"
      ]
     },
     "execution_count": 30,
     "metadata": {},
     "output_type": "execute_result"
    }
   ],
   "source": [
    "using JuMP, Gurobi\n",
    "\n",
    "m = Model(solver = GurobiSolver(OutputFlag=0))\n",
    "s = [i for i in 1:N]\n",
    "@variable(m, x[s,s],Bin)                                # 54 by 54 decision variable\n",
    "@constraint(m, cons1[j in s], sum(x[i,j] for i in s) == 1)   # one in-edge\n",
    "@constraint(m, cons2[i in s], sum(x[i,j] for j in s) == 1)   # one out-edge\n",
    "@constraint(m, cons3[i in s], x[i,i] == 0)                   # no self-loop\n",
    "@objective(m, Min, sum(x[i,j]*c[i,j] for i in s, j in s)) # minimize total distance travel\n",
    "\n",
    "@variable(m, u[s])\n",
    "@constraint(m, cons4[i in s, j in s[2:end]], u[i] - u[j] + N*x[i,j] <= N-1)\n",
    "@time(result = solve(m))\n",
    "println(result)\n",
    "sol = getvalue(x)\n",
    "solution = NamedArray(zeros(Int,N,N),(s,s))\n",
    "for i in s\n",
    "    for j in s\n",
    "            solution[i,j] = sol[i,j]\n",
    "    end\n",
    "end\n",
    "println(solution)\n",
    "graphTour(solution)"
   ]
  },
  {
   "cell_type": "code",
   "execution_count": 31,
   "metadata": {},
   "outputs": [
    {
     "name": "stdout",
     "output_type": "stream",
     "text": [
      "Statue 1 Class Act => Statue 5: Gemutlichkeit\n",
      "Statue 5 Gemutlichkeit => Statue 25: Enlightened Bucky\n",
      "Statue 25 Enlightened Bucky => Statue 23: Full Fatigues\n",
      "Statue 23 Full Fatigues => Statue 26: Razzle Dazzle\n",
      "Statue 26 Razzle Dazzle => Statue 21: Bright Idea Bucky\n",
      "Statue 21 Bright Idea Bucky => Statue 22: Black, White and \"Read\" All Over\n",
      "Statue 22 Black, White and \"Read\" All Over => Statue 27: Vintage Postcard\n",
      "Statue 27 Vintage Postcard => Statue 28: Ink'd Wisconsinly\n",
      "Statue 28 Ink'd Wisconsinly => Statue 30: Bucky at the Terrace\n",
      "Statue 30 Bucky at the Terrace => Statue 32: Grateful Red\n",
      "Statue 32 Grateful Red => Statue 31: Bucky How'd You Get So FLY?\n",
      "Statue 31 Bucky How'd You Get So FLY? => Statue 29: Madison Traditions\n",
      "Statue 29 Madison Traditions => Statue 33: 1st and 10\n",
      "Statue 33 1st and 10 => Statue 34: GameDayBucky\n",
      "Statue 34 GameDayBucky => Statue 40: Bucky come se Picasso\n",
      "Statue 40 Bucky come se Picasso => Statue 39: Superbuck\n",
      "Statue 39 Superbuck => Statue 38: Pucky \n",
      "Statue 38 Pucky  => Statue 37: And On Wisconsin!\n",
      "Statue 37 And On Wisconsin! => Statue 36: We Are Bucky\n",
      "Statue 36 We Are Bucky => Statue 53: Leckrone's Stop at the Top\n",
      "Statue 53 Leckrone's Stop at the Top => Statue 46: Blooming Bucky\n",
      "Statue 46 Blooming Bucky => Statue 52: Flamingo Bucky\n",
      "Statue 52 Flamingo Bucky => Statue 35: Bucky Alavarez\n",
      "Statue 35 Bucky Alavarez => Statue 48: America's Badgerland\n",
      "Statue 48 America's Badgerland => Statue 51: Dream Big Bucky\n",
      "Statue 51 Dream Big Bucky => Statue 50: Goodnight Bucky\n",
      "Statue 50 Goodnight Bucky => Statue 49: Major Bucky\n",
      "Statue 49 Major Bucky => Statue 47: Celestial Bucky\n",
      "Statue 47 Celestial Bucky => Statue 45: Graduation Bucky\n",
      "Statue 45 Graduation Bucky => Statue 44: Visible Bucky\n",
      "Statue 44 Visible Bucky => Statue 43: Sunset \n",
      "Statue 43 Sunset  => Statue 41: One Leg Up\n",
      "Statue 41 One Leg Up => Statue 42: Baller Bucky\n",
      "Statue 42 Baller Bucky => Statue 54: Retro Bucky\n",
      "Statue 54 Retro Bucky => Statue 24: Friday Night Fish Fry\n",
      "Statue 24 Friday Night Fish Fry => Statue 20: Vial Caps for a Cure\n",
      "Statue 20 Vial Caps for a Cure => Statue 19: When you say Wisconsin, You've Said it All\n",
      "Statue 19 When you say Wisconsin, You've Said it All => Statue 9: Bucky.exe\n",
      "Statue 9 Bucky.exe => Statue 3: Every Veteran is a story\n",
      "Statue 3 Every Veteran is a story => Statue 18: Vintage Gridiron\n",
      "Statue 18 Vintage Gridiron => Statue 12: 5th Quarter\n",
      "Statue 12 5th Quarter => Statue 17: Animals Need Bucky Too\n",
      "Statue 17 Animals Need Bucky Too => Statue 16: Spark a Dream \n",
      "Statue 16 Spark a Dream  => Statue 8: Lucky Bucky\n",
      "Statue 8 Lucky Bucky => Statue 4: Sconnie B.Goode\n",
      "Statue 4 Sconnie B.Goode => Statue 7: Bucky on Guard\n",
      "Statue 7 Bucky on Guard => Statue 6: Wisconsin Colors\n",
      "Statue 6 Wisconsin Colors => Statue 10: Signature Bucky\n",
      "Statue 10 Signature Bucky => Statue 2: Ringo\n",
      "Statue 2 Ringo => Statue 14: I am Bucky\n",
      "Statue 14 I am Bucky => Statue 13: A Taste of Madison\n",
      "Statue 13 A Taste of Madison => Statue 15: Bucky Lloyd Writght\n",
      "Statue 15 Bucky Lloyd Writght => Statue 11: Bucky Energized!\n",
      "Statue 11 Bucky Energized! => Statue 1: Class Act\n"
     ]
    }
   ],
   "source": [
    "function getRoutes(matrix,statue_name)\n",
    "    s = size(matrix,1)\n",
    "    index = 1; first = true;\n",
    "    while true\n",
    "        if index == 1 && first == false\n",
    "            break;\n",
    "        end\n",
    "        b = findmax(matrix[index,:])[2]\n",
    "        println(\"Statue $index \", statue_name[index], \" => Statue $b: \",statue_name[b])\n",
    "        index = b;first = false;\n",
    "    end\n",
    "end\n",
    "\n",
    "getRoutes(solution,statue_name)"
   ]
  },
  {
   "cell_type": "markdown",
   "metadata": {},
   "source": [
    "## Result and Discussion:\n",
    "\n",
    "- The Miller-Tucker-Zemlin Formulation was supposed to be slow since it would have n^2 variables but actually was able to solve it in under 30 minutes, while the subtour elimination method was supposed to be much faster but takes many many iterations to solve (more than 2 hours with 100+ iterations and still were not able to solve it).\n",
    "- In general, TSP is a really hard problem, as we can see here. Even though using some sorts of relaxation, it might work for small numbers of n, but as n gets a little bigger, the algorithm was not able to scale very well. Some of the industry used algorithm also takes advantage of the structure of the map to write more specific program to solve the problem.\n",
    "- While I was using the result of this to actually find the badger status, I notice that some of the path is not making sense realistically. For example, two of the statues were facing each other in the exact place, the algorithm still tells me to go some other place before coming back to the second statues that sit about the exact same place.\n"
   ]
  }
 ],
 "metadata": {
  "kernelspec": {
   "display_name": "Julia 0.6.2",
   "language": "julia",
   "name": "julia-0.6"
  },
  "language_info": {
   "file_extension": ".jl",
   "mimetype": "application/julia",
   "name": "julia",
   "version": "0.6.2"
  }
 },
 "nbformat": 4,
 "nbformat_minor": 2
}
